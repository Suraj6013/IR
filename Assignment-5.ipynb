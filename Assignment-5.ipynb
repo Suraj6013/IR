{
 "cells": [
  {
   "cell_type": "markdown",
   "id": "44a48991-3d18-46c8-92e6-46a24850f76b",
   "metadata": {},
   "source": [
    "<h3>Tejas Bhamare\n",
    "</br></br>BA08\n",
    "</br></br><center>Implement Page Rank Algorithm.</center>    \n",
    "</h3>"
   ]
  },
  {
   "cell_type": "code",
   "execution_count": 1,
   "id": "06e3acf9-b43b-4b2a-8d60-1fd3c78f2531",
   "metadata": {},
   "outputs": [],
   "source": [
    "import numpy as np\n",
    "\n",
    "def ranker(adjacency_matrix, max_iter=1000, damping_factor=0.85):\n",
    "\n",
    "    total_nodes = adjacency_matrix.shape[0]\n",
    "\n",
    "    ranks = {}\n",
    "\n",
    "    scores = [1/total_nodes for i in range(total_nodes)]\n",
    "\n",
    "    for i in range(max_iter):\n",
    "\n",
    "        new_scores = [0 for x in range(total_nodes)]\n",
    "\n",
    "        for j in range(total_nodes):\n",
    "\n",
    "            for k in range(total_nodes):\n",
    "\n",
    "                if adjacency_matrix[k][j] == 1:\n",
    "\n",
    "                    new_scores[j] += scores[j]/np.sum(adjacency_matrix[k])\n",
    "                    \n",
    "            new_scores[j] = (damping_factor*new_scores[j])+((1-damping_factor)/total_nodes)\n",
    "\n",
    "        scores = new_scores\n",
    "\n",
    "    for i, j in enumerate(scores, 1):\n",
    "\n",
    "        ranks[i] = j\n",
    "\n",
    "    ranks = dict(reversed(sorted(ranks.items(), key=lambda x: x[1])))\n",
    "\n",
    "    return ranks"
   ]
  },
  {
   "cell_type": "code",
   "execution_count": 2,
   "id": "5990ce60-03b1-426d-8ba9-2ea4309c8740",
   "metadata": {},
   "outputs": [
    {
     "data": {
      "text/plain": [
       "{5: np.float64(1.0006241995699147e+105),\n",
       " 4: np.float64(9.683921329324454e+53),\n",
       " 3: np.float64(0.1028571428571429),\n",
       " 1: np.float64(0.1028571428571429),\n",
       " 2: np.float64(0.05217391304347828)}"
      ]
     },
     "execution_count": 2,
     "metadata": {},
     "output_type": "execute_result"
    }
   ],
   "source": [
    "adjMatrix = np.array([[0, 0, 0, 1, 0],\n",
    "                      [0, 0, 1, 0, 1],\n",
    "                      [1, 0, 0, 0, 1],\n",
    "                      [0, 1, 0, 0, 1],\n",
    "                      [1, 0, 1, 1, 0]])\n",
    "\n",
    "ranker(adjMatrix)"
   ]
  },
  {
   "cell_type": "code",
   "execution_count": 15,
   "id": "efec0e65",
   "metadata": {},
   "outputs": [
    {
     "name": "stdout",
     "output_type": "stream",
     "text": [
      "{0: 0.2791663194600823, 1: 0.14791678605168723, 2: 0.17708350522995883, 3: 0.17708350522995883, 4: 0.21874988402831275}\n",
      "Graph with 5 nodes and 6 edges\n"
     ]
    }
   ],
   "source": [
    "import networkx as nx \n",
    "G=nx.barabasi_albert_graph(5,3) \n",
    "pr=nx.pagerank(G,0.4) \n",
    "print(pr) \n",
    "print(G)"
   ]
  },
  {
   "cell_type": "code",
   "execution_count": null,
   "id": "fc0df022",
   "metadata": {},
   "outputs": [],
   "source": []
  }
 ],
 "metadata": {
  "kernelspec": {
   "display_name": "Python 3",
   "language": "python",
   "name": "python3"
  },
  "language_info": {
   "codemirror_mode": {
    "name": "ipython",
    "version": 3
   },
   "file_extension": ".py",
   "mimetype": "text/x-python",
   "name": "python",
   "nbconvert_exporter": "python",
   "pygments_lexer": "ipython3",
   "version": "3.12.4"
  }
 },
 "nbformat": 4,
 "nbformat_minor": 5
}
